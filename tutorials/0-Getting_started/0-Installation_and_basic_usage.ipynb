{
 "cells": [
  {
   "cell_type": "markdown",
   "metadata": {},
   "source": [
    "# Getting started with Rhapsody\n",
    "\n",
    "## Installation\n",
    "Follow instructions in the git repository [README file](https://github.com/luponzo86/rhapsody/blob/master/README.md)."
   ]
  },
  {
   "cell_type": "markdown",
   "metadata": {},
   "source": [
    "## Initial configuration\n",
    "The standard configuration procedure will create a `rhapsody/` folder in your home directory and automatically train default classifiers and download all necessary data (i.e. EVmutation precomputed scores). Read the [documentation](https://rhapsody.readthedocs.io/en/latest/) to see how to change the default configuration parameters."
   ]
  },
  {
   "cell_type": "code",
   "execution_count": 1,
   "metadata": {},
   "outputs": [],
   "source": [
    "import rhapsody as rd"
   ]
  },
  {
   "cell_type": "code",
   "execution_count": 2,
   "metadata": {},
   "outputs": [
    {
     "name": "stderr",
     "output_type": "stream",
     "text": [
      "@> You are running Rhapsody v0.9.7\n",
      "\n",
      "@> Pre-existing working directory detected: /home/luca/rhapsody\n",
      "@> Pre-existing classifiers found: /home/luca/rhapsody/default_classifiers-sklearn_v0.21.3\n",
      "@> Pre-existing EVmutation metrics found.\n",
      "@> EVmutation folder found: /home/luca/rhapsody/EVmutation_mutation_effects\n",
      "@> DSSP is installed on the system.\n",
      "@> Setup complete.\n"
     ]
    }
   ],
   "source": [
    "summary = rd.initialSetup()"
   ]
  },
  {
   "cell_type": "markdown",
   "metadata": {},
   "source": [
    "## Testing\n",
    "Here we show how to obtain pathogenicity predictions for a small set of 5 Single Amino acid Variants:"
   ]
  },
  {
   "cell_type": "code",
   "execution_count": 3,
   "metadata": {},
   "outputs": [],
   "source": [
    "test_SAVs = [\n",
    "    'O00294 496 A T',  # know neutral SAV used for training\n",
    "    'O00238 31 R H',   # SAV with no PDB structure\n",
    "    'P01112 58 T R',   # unknown SAV\n",
    "    'P01112 30 D E',   # unknown SAV\n",
    "    'P01112 170 K I',  # unknown SAV with no Pfam domain\n",
    "]"
   ]
  },
  {
   "cell_type": "code",
   "execution_count": 4,
   "metadata": {},
   "outputs": [],
   "source": [
    "import os\n",
    "\n",
    "if not os.path.isdir('local'):\n",
    "    os.mkdir('local')"
   ]
  },
  {
   "cell_type": "markdown",
   "metadata": {},
   "source": [
    "Let's run Rhapsody in the folder we just created:"
   ]
  },
  {
   "cell_type": "code",
   "execution_count": 5,
   "metadata": {},
   "outputs": [
    {
     "name": "stderr",
     "output_type": "stream",
     "text": [
      "@> Logging into file: rhapsody-log.txt\n",
      "@> Logging started at 2019-12-13 14:29:57.750729\n",
      "@> Imported feature set:\n",
      "@>    'wt_PSIC'* \n",
      "@>    'Delta_PSIC'* \n",
      "@>    'SASA'* \n",
      "@>    'ANM_MSF-chain'* \n",
      "@>    'ANM_effectiveness-chain'* \n",
      "@>    'ANM_sensitivity-chain'* \n",
      "@>    'stiffness-chain'* \n",
      "@>    'entropy' \n",
      "@>    'ranked_MI' \n",
      "@>    'BLOSUM'* \n",
      "@>    (* auxiliary feature set)\n",
      "@> Submitting query to PolyPhen-2...\n",
      "@> Query to PolyPhen-2 started in 0.5s.\n",
      "@> PolyPhen-2 is running...\n",
      "@> Query to PolyPhen-2 completed in 19.6s.\n",
      "@> PolyPhen-2's output parsed.\n",
      "@> Sequence-conservation features have been retrieved from PolyPhen-2's output.\n",
      "@> Mapping SAVs to PDB structures...\n",
      "Mapping SAV 'O00238 31 R H' to PDB:   0%|          | 0/5 [00:00<?]@> Pickle 'UniprotMap-O00238.pkl' recovered.\n",
      "Mapping SAV 'O00294 496 A T' to PDB:   0%|          | 0/5 [00:00<?]@> Pickle 'UniprotMap-O00238.pkl' saved.\n",
      "@> Pickle 'UniprotMap-O00294.pkl' recovered.\n",
      "Mapping SAV 'P01112 58 T R' to PDB:  40%|████      | 2/5 [00:00<00:00] @> Pickle 'UniprotMap-O00294.pkl' saved.\n",
      "@> Pickle 'UniprotMap-P01112.pkl' recovered.\n",
      "Mapping SAV 'P01112 170 K I' to PDB: 100%|██████████| 5/5 [00:00<00:00]\n",
      "@> Pickle 'UniprotMap-P01112.pkl' saved.\n",
      "@> 4 out of 5 SAVs have been mapped to PDB in 0.7s.\n",
      "@> Computing structural and dynamical features from PDB structures...\n",
      "Analizing mutation site 1AA9:A 170:   0%|          | 0/5 [00:00<?]@> Pickle 'PDBfeatures-1AA9.pkl' recovered.\n",
      "Analizing mutation site 2FIM:A 443:   0%|          | 0/5 [00:00<?]@> Pickle 'PDBfeatures-1AA9.pkl' saved.\n",
      "@> Pickle 'PDBfeatures-2FIM.pkl' recovered.\n",
      "Analizing mutation site 4Q21:A 58:   0%|          | 0/5 [00:00<?] @> Pickle 'PDBfeatures-2FIM.pkl' saved.\n",
      "@> Pickle 'PDBfeatures-4Q21.pkl' recovered.\n",
      "Analizing mutation site 4Q21:A 30:   0%|          | 0/5 [00:00<?]@> Pickle 'PDBfeatures-4Q21.pkl' saved.\n",
      "Analizing mutation site 4Q21:A 30: 100%|██████████| 5/5 [00:00<00:00]\n",
      "@> PDB features have been computed in 0.0s.\n",
      "@> Computing sequence properties from Pfam domains...\n",
      "Mapping SAV 'O00238 31 R H' to Pfam:   0%|          | 0/5 [00:00<?]@> Pickle 'UniprotMap-O00238.pkl' recovered.\n",
      "Mapping SAV 'O00294 496 A T' to Pfam:   0%|          | 0/5 [00:00<?]@> Pickle 'UniprotMap-O00238.pkl' saved.\n",
      "@> Pickle 'UniprotMap-O00294.pkl' recovered.\n",
      "Mapping SAV 'P01112 58 T R' to Pfam:   0%|          | 0/5 [00:00<?] @> Pickle 'UniprotMap-O00294.pkl' saved.\n",
      "@> Pickle 'UniprotMap-P01112.pkl' recovered.\n",
      "Mapping SAV 'P01112 170 K I' to Pfam:   0%|          | 0/5 [00:00<?]@> WARNING Unable to compute Pfam features: No Pfam domain for resid 170.\n",
      "@> Pickle 'UniprotMap-P01112.pkl' saved.\n",
      "Mapping SAV 'P01112 170 K I' to Pfam: 100%|██████████| 5/5 [00:00<00:00]\n",
      "@> SAVs have been mapped on Pfam domains and sequence properties have been computed in 0.1s.\n",
      "@> Random Forest classifier imported in 0.3s.\n",
      "@> 3 predictions computed in 0.5s.\n",
      "@> Random Forest classifier imported in 0.4s.\n",
      "@> 4 predictions computed in 0.4s.\n",
      "@> Recovering EVmutation data...\n",
      "@> EVmutation scores recovered in 0.0s.\n",
      "@> Logging stopped at 2019-12-13 14:30:29.761256\n",
      "@> Closing logfile: rhapsody-log.txt\n"
     ]
    }
   ],
   "source": [
    "os.chdir('local')\n",
    "rh = rd.rhapsody(test_SAVs)\n",
    "os.chdir('..')"
   ]
  },
  {
   "cell_type": "markdown",
   "metadata": {},
   "source": [
    "All results and predictions have been saved to file:"
   ]
  },
  {
   "cell_type": "code",
   "execution_count": 6,
   "metadata": {},
   "outputs": [
    {
     "name": "stdout",
     "output_type": "stream",
     "text": [
      "pph2-completed.txt     rhapsody-log.txt\r\n",
      "pph2-full.txt\t       rhapsody-log.txt.1\r\n",
      "pph2-log.txt\t       rhapsody-pickle.pkl\r\n",
      "pph2-short.txt\t       rhapsody-predictions-full_vs_reduced.txt\r\n",
      "pph2-snps.txt\t       rhapsody-predictions.txt\r\n",
      "pph2-started.txt       rhapsody-SAVs.txt\r\n",
      "rhapsody-features.txt  rhapsody-Uniprot2PDB.txt\r\n"
     ]
    }
   ],
   "source": [
    "!ls local"
   ]
  },
  {
   "cell_type": "markdown",
   "metadata": {},
   "source": [
    "...and can also be accessed through the Rhapsody object:"
   ]
  },
  {
   "cell_type": "code",
   "execution_count": 7,
   "metadata": {},
   "outputs": [
    {
     "data": {
      "text/plain": [
       "array([('O00294 496 A T', 'known_neu', 0.10733333, 0.04343577, 'neutral', 0.351, 'neutral', -3.1479, 'neutral'),\n",
       "       ('O00238 31 R H', 'new',        nan,        nan, '?', 0.219, 'neutral', -2.4718, 'neutral'),\n",
       "       ('P01112 58 T R', 'new', 0.952     , 0.8950683 , 'deleterious', 1.   , 'deleterious', -9.7604, 'deleterious'),\n",
       "       ('P01112 30 D E', 'new', 0.122     , 0.0495388 , 'neutral', 0.001, 'neutral',  0.2196, 'neutral'),\n",
       "       ('P01112 170 K I', 'new', 0.43533334, 0.25916612, 'neutral', 0.   , 'neutral',     nan, '?')],\n",
       "      dtype=[('SAV coords', '<U50'), ('training info', '<U12'), ('score', '<f4'), ('path. prob.', '<f4'), ('path. class', '<U12'), ('PolyPhen-2 score', '<f4'), ('PolyPhen-2 path. class', '<U12'), ('EVmutation score', '<f4'), ('EVmutation path. class', '<U12')])"
      ]
     },
     "execution_count": 7,
     "metadata": {},
     "output_type": "execute_result"
    }
   ],
   "source": [
    "rh.getPredictions()"
   ]
  },
  {
   "cell_type": "code",
   "execution_count": 8,
   "metadata": {},
   "outputs": [
    {
     "data": {
      "text/plain": [
       "'neutral'"
      ]
     },
     "execution_count": 8,
     "metadata": {},
     "output_type": "execute_result"
    }
   ],
   "source": [
    "rh.getPredictions(SAV='P01112 30 D E')['path. class']"
   ]
  }
 ],
 "metadata": {
  "kernelspec": {
   "display_name": "Python 3",
   "language": "python",
   "name": "python3"
  },
  "language_info": {
   "codemirror_mode": {
    "name": "ipython",
    "version": 3
   },
   "file_extension": ".py",
   "mimetype": "text/x-python",
   "name": "python",
   "nbconvert_exporter": "python",
   "pygments_lexer": "ipython3",
   "version": "3.7.4"
  }
 },
 "nbformat": 4,
 "nbformat_minor": 4
}
