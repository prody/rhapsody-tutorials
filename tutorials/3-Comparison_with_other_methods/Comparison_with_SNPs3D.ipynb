{
 "cells": [
  {
   "cell_type": "markdown",
   "metadata": {},
   "source": [
    "# Comparison with SNPs3D\n",
    "SNPs3D is one of a few methods for variant pathogenicity prediction that explicitly takes into account the impact of an amino acid substitution on a protein's stability. In this tutorial, we will compare SNPs3D and Rhapsody's predictions on a relatively small set of SAVs for which we were able to find precomputed predictions for SNPs3D."
   ]
  },
  {
   "cell_type": "code",
   "execution_count": 1,
   "metadata": {},
   "outputs": [],
   "source": [
    "import os\n",
    "import re\n",
    "import gzip\n",
    "import glob\n",
    "import numpy as np\n",
    "import pandas as pd\n",
    "import prody"
   ]
  },
  {
   "cell_type": "code",
   "execution_count": 2,
   "metadata": {},
   "outputs": [],
   "source": [
    "# If needed, insert here local path to Rhapsody folder with the command:\n",
    "# sys.path.insert(0, '/LOCAL_PATH/rhapsody/')\n",
    "import rhapsody as rd"
   ]
  },
  {
   "cell_type": "code",
   "execution_count": 3,
   "metadata": {},
   "outputs": [],
   "source": [
    "# import the numpy structured array containing precomputed features \n",
    "# for the optimized training dataset\n",
    "ID = np.load('../1-Training_Dataset/local/data/precomputed_features-ID_opt.npy')"
   ]
  },
  {
   "cell_type": "markdown",
   "metadata": {},
   "source": [
    "## Importing SNPs3D dataset of precomputed predictions\n",
    "A file containing precomputed predictions for many non-synonymous SNPs can be downloded from [http://www.snps3d.org/download/](http://www.snps3d.org/download/). \n",
    "In this tutorial, we will select predictions for SAVs also found in Rhapsody's Integrated Dataset and we will compare their predictions."
   ]
  },
  {
   "cell_type": "code",
   "execution_count": 4,
   "metadata": {},
   "outputs": [],
   "source": [
    "if not os.path.isdir('local'):\n",
    "    os.mkdir('local')"
   ]
  },
  {
   "cell_type": "code",
   "execution_count": 5,
   "metadata": {},
   "outputs": [],
   "source": [
    "# download file    \n",
    "gz_file = 'local/snp_analysis_result.txt.gz'\n",
    "if not os.path.isfile(gz_file):\n",
    "    import subprocess\n",
    "    command = 'wget -P local/ http://www.snps3d.org/download/snp_analysis_result.txt.gz'\n",
    "    subprocess.run(command.split())"
   ]
  },
  {
   "cell_type": "code",
   "execution_count": 6,
   "metadata": {},
   "outputs": [],
   "source": [
    "# import dataset\n",
    "snps3d_dataset = pd.read_csv(gz_file, sep='\\t')"
   ]
  },
  {
   "cell_type": "code",
   "execution_count": 7,
   "metadata": {},
   "outputs": [],
   "source": [
    "snps3d_dataset.drop_duplicates(\n",
    "    subset=['snp_id'],keep=False, inplace=True)\n",
    "snps3d_dataset.reset_index(drop=True, inplace=True)"
   ]
  },
  {
   "cell_type": "code",
   "execution_count": 8,
   "metadata": {},
   "outputs": [
    {
     "data": {
      "text/html": [
       "<div>\n",
       "<style scoped>\n",
       "    .dataframe tbody tr th:only-of-type {\n",
       "        vertical-align: middle;\n",
       "    }\n",
       "\n",
       "    .dataframe tbody tr th {\n",
       "        vertical-align: top;\n",
       "    }\n",
       "\n",
       "    .dataframe thead th {\n",
       "        text-align: right;\n",
       "    }\n",
       "</style>\n",
       "<table border=\"1\" class=\"dataframe\">\n",
       "  <thead>\n",
       "    <tr style=\"text-align: right;\">\n",
       "      <th></th>\n",
       "      <th>locus_ac</th>\n",
       "      <th>seq_ac</th>\n",
       "      <th>snp</th>\n",
       "      <th>control_type</th>\n",
       "      <th>snp_id</th>\n",
       "      <th>svm_profile</th>\n",
       "      <th>svm_structure</th>\n",
       "      <th>rule_description</th>\n",
       "      <th>freq</th>\n",
       "    </tr>\n",
       "  </thead>\n",
       "  <tbody>\n",
       "    <tr>\n",
       "      <th>0</th>\n",
       "      <td>85446</td>\n",
       "      <td>NP_207646</td>\n",
       "      <td>S1082R</td>\n",
       "      <td>population</td>\n",
       "      <td>223124</td>\n",
       "      <td>0.206083</td>\n",
       "      <td>NaN</td>\n",
       "      <td>NaN</td>\n",
       "      <td>NaN</td>\n",
       "    </tr>\n",
       "    <tr>\n",
       "      <th>1</th>\n",
       "      <td>3949</td>\n",
       "      <td>LDLR</td>\n",
       "      <td>C646Y</td>\n",
       "      <td>FN</td>\n",
       "      <td>CM900159 143890</td>\n",
       "      <td>-3.334460</td>\n",
       "      <td>-1.14321</td>\n",
       "      <td>OverPacking ss</td>\n",
       "      <td>NaN</td>\n",
       "    </tr>\n",
       "    <tr>\n",
       "      <th>2</th>\n",
       "      <td>55040</td>\n",
       "      <td>NP_060427</td>\n",
       "      <td>T544P</td>\n",
       "      <td>population</td>\n",
       "      <td>4794159</td>\n",
       "      <td>1.444760</td>\n",
       "      <td>NaN</td>\n",
       "      <td>NaN</td>\n",
       "      <td>NaN</td>\n",
       "    </tr>\n",
       "    <tr>\n",
       "      <th>3</th>\n",
       "      <td>57057</td>\n",
       "      <td>NP_065150</td>\n",
       "      <td>S29F</td>\n",
       "      <td>population</td>\n",
       "      <td>13237089</td>\n",
       "      <td>0.784761</td>\n",
       "      <td>NaN</td>\n",
       "      <td>NaN</td>\n",
       "      <td>NaN</td>\n",
       "    </tr>\n",
       "    <tr>\n",
       "      <th>4</th>\n",
       "      <td>81027</td>\n",
       "      <td>NP_110400</td>\n",
       "      <td>Q43H</td>\n",
       "      <td>population</td>\n",
       "      <td>415064</td>\n",
       "      <td>-0.114436</td>\n",
       "      <td>NaN</td>\n",
       "      <td>NaN</td>\n",
       "      <td>0.029412</td>\n",
       "    </tr>\n",
       "  </tbody>\n",
       "</table>\n",
       "</div>"
      ],
      "text/plain": [
       "   locus_ac     seq_ac     snp control_type           snp_id  svm_profile  \\\n",
       "0     85446  NP_207646  S1082R   population           223124     0.206083   \n",
       "1      3949       LDLR   C646Y           FN  CM900159 143890    -3.334460   \n",
       "2     55040  NP_060427   T544P   population          4794159     1.444760   \n",
       "3     57057  NP_065150    S29F   population         13237089     0.784761   \n",
       "4     81027  NP_110400    Q43H   population           415064    -0.114436   \n",
       "\n",
       "   svm_structure rule_description      freq  \n",
       "0            NaN              NaN       NaN  \n",
       "1       -1.14321   OverPacking ss       NaN  \n",
       "2            NaN              NaN       NaN  \n",
       "3            NaN              NaN       NaN  \n",
       "4            NaN              NaN  0.029412  "
      ]
     },
     "execution_count": 8,
     "metadata": {},
     "output_type": "execute_result"
    }
   ],
   "source": [
    "snps3d_dataset.head(5)"
   ]
  },
  {
   "cell_type": "markdown",
   "metadata": {},
   "source": [
    "Here's the description of each column as described on SNPs3D's website:\n",
    "```\n",
    "Col1: Entrez Gene ID.\n",
    "Col2: seq_ac is Refseq protein sequence ID for population SNPs or Gene symbol for control variants.\n",
    "Col3: snp follows the format of \"X123Y\", X is wild-type residue, Y is mutant residue, 123 is residue number on protein sequence.\n",
    "Col4: SNP type includes control (false positive control) and population.\n",
    "Col5: SNP ID is dbSNP ID for population SNPs.\n",
    "Col6: svm_profile is svm score assigned by sequence profile model, a negative value indicates a variant is assigned as deleterious.\n",
    "Col7: svm_structure is svm score assigned by the structure stability model.\n",
    "Col8: molecular effect is referred to identified structural effect.\n",
    "Col9: population frequency is based on dbSNP.\n",
    "```\n",
    "\n",
    "We will only consider predictions for SAVs that are also included in Rhapsody's Integrated Dataset. In order to do so, RefSeq protein sequence IDs in SNPs3D dataset must be converted to Uniprot accession numbers. We will use a script for [database identifier mapping](https://www.uniprot.org/help/api_idmapping) provided by Uniprot."
   ]
  },
  {
   "cell_type": "code",
   "execution_count": 9,
   "metadata": {},
   "outputs": [],
   "source": [
    "snps3d_refseq_list = ' '.join(snps3d_dataset.seq_ac.unique())"
   ]
  },
  {
   "cell_type": "code",
   "execution_count": 10,
   "metadata": {
    "scrolled": true
   },
   "outputs": [
    {
     "data": {
      "text/html": [
       "<div>\n",
       "<style scoped>\n",
       "    .dataframe tbody tr th:only-of-type {\n",
       "        vertical-align: middle;\n",
       "    }\n",
       "\n",
       "    .dataframe tbody tr th {\n",
       "        vertical-align: top;\n",
       "    }\n",
       "\n",
       "    .dataframe thead th {\n",
       "        text-align: right;\n",
       "    }\n",
       "</style>\n",
       "<table border=\"1\" class=\"dataframe\">\n",
       "  <thead>\n",
       "    <tr style=\"text-align: right;\">\n",
       "      <th></th>\n",
       "      <th>RefSeq</th>\n",
       "      <th>Uniprot</th>\n",
       "    </tr>\n",
       "  </thead>\n",
       "  <tbody>\n",
       "    <tr>\n",
       "      <th>0</th>\n",
       "      <td>NP_207646</td>\n",
       "      <td>A0A2P1H683</td>\n",
       "    </tr>\n",
       "    <tr>\n",
       "      <th>1</th>\n",
       "      <td>NP_207646</td>\n",
       "      <td>B7ZM83</td>\n",
       "    </tr>\n",
       "    <tr>\n",
       "      <th>2</th>\n",
       "      <td>NP_207646</td>\n",
       "      <td>B9EK48</td>\n",
       "    </tr>\n",
       "    <tr>\n",
       "      <th>3</th>\n",
       "      <td>NP_207646</td>\n",
       "      <td>Q9C0A1</td>\n",
       "    </tr>\n",
       "    <tr>\n",
       "      <th>4</th>\n",
       "      <td>NP_060427</td>\n",
       "      <td>Q9H201</td>\n",
       "    </tr>\n",
       "  </tbody>\n",
       "</table>\n",
       "</div>"
      ],
      "text/plain": [
       "      RefSeq     Uniprot\n",
       "0  NP_207646  A0A2P1H683\n",
       "1  NP_207646      B7ZM83\n",
       "2  NP_207646      B9EK48\n",
       "3  NP_207646      Q9C0A1\n",
       "4  NP_060427      Q9H201"
      ]
     },
     "execution_count": 10,
     "metadata": {},
     "output_type": "execute_result"
    }
   ],
   "source": [
    "import urllib.parse\n",
    "import urllib.request\n",
    "\n",
    "url = 'https://www.uniprot.org/uploadlists/'\n",
    "\n",
    "params = {\n",
    "    'from': 'P_REFSEQ_AC',\n",
    "    'to': 'ACC',\n",
    "    'format': 'tab',\n",
    "    'query': snps3d_refseq_list\n",
    "}\n",
    "\n",
    "data = urllib.parse.urlencode(params)\n",
    "data = data.encode('utf-8')\n",
    "req = urllib.request.Request(url, data)\n",
    "with urllib.request.urlopen(req) as f:\n",
    "    response = f.read()\n",
    "content = response.decode('utf-8')\n",
    "\n",
    "# import mapped list as a dataframe\n",
    "from_refseq_to_Uniprot = pd.DataFrame(\n",
    "    [line.split('\\t') for line in content.split('\\n')[1:]],\n",
    "    columns=['RefSeq', 'Uniprot']\n",
    ")\n",
    "\n",
    "from_refseq_to_Uniprot.head(5)"
   ]
  },
  {
   "cell_type": "markdown",
   "metadata": {},
   "source": [
    "We can now map entries between Rhapsody's Integrated Dataset (ID) and SNPs3D dataset."
   ]
  },
  {
   "cell_type": "code",
   "execution_count": 11,
   "metadata": {},
   "outputs": [
    {
     "name": "stdout",
     "output_type": "stream",
     "text": [
      "SAVs in SNPs3d mapped to Rhapsody's ID: 2649\n"
     ]
    }
   ],
   "source": [
    "ID_SAVs = {}\n",
    "for idx, SAV in enumerate(ID['SAV_coords']):\n",
    "    Uniprot_acc = SAV.split()[0]\n",
    "    ID_SAVs.setdefault(Uniprot_acc, {})\n",
    "    ID_SAVs[Uniprot_acc][SAV] = idx\n",
    "\n",
    "# find unique RefSeq-to-Uniprot mapping for proteins in \n",
    "# Rhapsody's Integrated Dataset\n",
    "protein_mapping = {}\n",
    "for i, row in from_refseq_to_Uniprot.iterrows():\n",
    "    if row.Uniprot in ID_SAVs:\n",
    "        protein_mapping[row.RefSeq] = row.Uniprot\n",
    "\n",
    "# map indexes from Rhapsody's ID to SNPs3D\n",
    "ID_to_snps3d = {}\n",
    "for snps3d_idx, row in snps3d_dataset.iterrows():\n",
    "    refseq_id = row.seq_ac\n",
    "    if refseq_id in protein_mapping:\n",
    "        Uniprot_acc = protein_mapping[refseq_id]\n",
    "        wt_aa, pos, mut_aa = row.snp[0], row.snp[1:-1], row.snp[-1]\n",
    "        SAV = f'{Uniprot_acc} {pos} {wt_aa} {mut_aa}'\n",
    "        if SAV in ID_SAVs[Uniprot_acc]:\n",
    "            ID_idx = ID_SAVs[Uniprot_acc][SAV]\n",
    "            ID_to_snps3d[ID_idx] = snps3d_idx\n",
    "            \n",
    "ID_to_snps3d_table = np.array(\n",
    "    [[i, ID_to_snps3d[i]] for i in sorted(ID_to_snps3d.keys())])\n",
    "print(\"SAVs in SNPs3d mapped to Rhapsody's ID:\", len(ID_to_snps3d))"
   ]
  },
  {
   "cell_type": "code",
   "execution_count": null,
   "metadata": {},
   "outputs": [],
   "source": [
    "# check\n",
    "for ID_idx, snps3d_idx in ID_to_snps3d_table:\n",
    "    snps3d_entry = snps3d_dataset.iloc[snps3d_idx]\n",
    "    snps3d_SAV = protein_mapping[snps3d_entry.seq_ac]\n",
    "    snps3d_SAV += ' ' + snps3d_entry.snp[1:-1]\n",
    "    snps3d_SAV += ' ' + snps3d_entry.snp[0]\n",
    "    snps3d_SAV += ' ' + snps3d_entry.snp[-1]\n",
    "    assert snps3d_SAV == ID[ID_idx]['SAV_coords'], ''"
   ]
  },
  {
   "cell_type": "markdown",
   "metadata": {},
   "source": [
    "SNPs3D provides predictions from two models, a **structure stability model** and a **sequence profile model**, see [here](http://www.snps3d.org/help/method.html) for more details. We also compute a **\"consensus model\"** that in principle should attain a higher accuracy. From the website:\n",
    "\n",
    "> *A positive SVM score indicates a variant classified as non-deleterious, and a negative score indicates a deleterious case. The larger the score, the more confident the classification. Accuracy is significantly higher for scores greater 0.5 or less than -0.5. For variants that act by affecting protein function rather than stability, the stability model is expected to return a positive (non-deleterious) SVM score, and the profile model a negative (deleterious) score. Classification by the two methods may also differ because of a false negative or false positive return for one of them. Accuracy is significantly higher for the set of cases where both methods agree.*"
   ]
  },
  {
   "cell_type": "code",
   "execution_count": 12,
   "metadata": {},
   "outputs": [
    {
     "name": "stderr",
     "output_type": "stream",
     "text": [
      "/home/luca/anaconda3/lib/python3.7/site-packages/ipykernel_launcher.py:16: RuntimeWarning: invalid value encountered in greater\n",
      "  app.launch_new_instance()\n"
     ]
    }
   ],
   "source": [
    "snps3d_subset = ID_to_snps3d_table[:, 1]\n",
    "\n",
    "# pathogenicity scores\n",
    "preds = {}\n",
    "preds['SNPs3D_profile']   = {\n",
    "    'score': - snps3d_dataset.iloc[snps3d_subset].svm_profile.to_numpy()}\n",
    "preds['SNPs3D_structure'] = {\n",
    "    'score': - snps3d_dataset.iloc[snps3d_subset].svm_structure.to_numpy()}\n",
    "preds['SNPs3D_consensus'] = {\n",
    "    'score': (preds['SNPs3D_profile']['score'] + preds['SNPs3D_structure']['score']) / 2}\n",
    "\n",
    "# pathogenicity classes\n",
    "for model in preds:\n",
    "    score = preds[model]['score']\n",
    "    # negative svm_scores are considered 'deleterious' predictions\n",
    "    pclass = np.where(score > 0, 'deleterious', 'neutral')\n",
    "    # invalid predictions\n",
    "    pclass[np.isnan(score)] = '?'\n",
    "    preds[model]['path. class'] = pclass"
   ]
  },
  {
   "cell_type": "markdown",
   "metadata": {},
   "source": [
    "## Rhapsody predictions from unbiased classifiers\n",
    "\n",
    "We train unbiased classifiers by excluding previously selected variants from the training dataset."
   ]
  },
  {
   "cell_type": "code",
   "execution_count": 13,
   "metadata": {},
   "outputs": [],
   "source": [
    "ID_test = ID[ID_to_snps3d_table[:, 0]]"
   ]
  },
  {
   "cell_type": "code",
   "execution_count": 14,
   "metadata": {},
   "outputs": [
    {
     "data": {
      "text/plain": [
       "1142"
      ]
     },
     "execution_count": 14,
     "metadata": {},
     "output_type": "execute_result"
    }
   ],
   "source": [
    "# list of proteins whose SAVs are included in SNPs3D subset\n",
    "test_Uniprot_accs = set(\n",
    "    [SAV.split()[0] for SAV in ID_test['SAV_coords']])\n",
    "len(test_Uniprot_accs)"
   ]
  },
  {
   "cell_type": "code",
   "execution_count": 15,
   "metadata": {},
   "outputs": [
    {
     "data": {
      "text/plain": [
       "8642"
      ]
     },
     "execution_count": 15,
     "metadata": {},
     "output_type": "execute_result"
    }
   ],
   "source": [
    "# let's exclude those proteins from Rhapsody's training dataset\n",
    "sel = [SAV.split()[0] not in test_Uniprot_accs for SAV in ID['SAV_coords']]\n",
    "ID_train = ID[sel]\n",
    "len(ID_train)"
   ]
  },
  {
   "cell_type": "code",
   "execution_count": 16,
   "metadata": {
    "scrolled": true
   },
   "outputs": [
    {
     "name": "stdout",
     "output_type": "stream",
     "text": [
      "Precomputed classifiers found.\n"
     ]
    }
   ],
   "source": [
    "# let's now train unbiased classifiers\n",
    "folder = 'local/train/'\n",
    "if not os.path.isdir(folder):\n",
    "    os.mkdir(folder)\n",
    "\n",
    "if not os.path.isdir('local/train/full'):\n",
    "    logfile = os.path.join(folder, 'RF_training.log')\n",
    "    prody.LOGGER.start(logfile)\n",
    "    \n",
    "    for clsf_version in ['full', 'reduced', 'EVmut']:\n",
    "        # training of the Random Forest classifier on the given set of features\n",
    "        featset = rd.DEFAULT_FEATSETS[clsf_version]\n",
    "        sel = ['SAV_coords', 'true_label'] + featset\n",
    "        rd.trainRFclassifier(ID_train[sel])\n",
    "        \n",
    "        # store output files\n",
    "        _folder = os.path.join(folder, clsf_version)\n",
    "        os.mkdir(_folder)\n",
    "        for file in glob.glob('*png') + ['trained_classifier.pkl',]:\n",
    "            os.rename(file, os.path.join(_folder, file))\n",
    "            \n",
    "        prody.LOGGER.info('')\n",
    "    prody.LOGGER.close(logfile)\n",
    "else:\n",
    "    print('Precomputed classifiers found.')"
   ]
  },
  {
   "cell_type": "code",
   "execution_count": 17,
   "metadata": {},
   "outputs": [
    {
     "name": "stderr",
     "output_type": "stream",
     "text": [
      "@> Imported feature set:\n",
      "@>    'wt_PSIC' \n",
      "@>    'Delta_PSIC' \n",
      "@>    'SASA' \n",
      "@>    'ANM_MSF-chain' \n",
      "@>    'ANM_effectiveness-chain' \n",
      "@>    'ANM_sensitivity-chain' \n",
      "@>    'stiffness-chain' \n",
      "@>    'entropy' \n",
      "@>    'ranked_MI' \n",
      "@>    'BLOSUM' \n",
      "@> Random Forest classifier imported in 0.2s.\n",
      "@> 1988 predictions computed in 1.3s.\n",
      "@> Imported feature set:\n",
      "@>    'wt_PSIC' \n",
      "@>    'Delta_PSIC' \n",
      "@>    'SASA' \n",
      "@>    'ANM_MSF-chain' \n",
      "@>    'ANM_effectiveness-chain' \n",
      "@>    'ANM_sensitivity-chain' \n",
      "@>    'stiffness-chain' \n",
      "@>    'BLOSUM' \n",
      "@> Random Forest classifier imported in 0.2s.\n",
      "@> 2625 predictions computed in 1.2s.\n",
      "@> Imported feature set:\n",
      "@>    'wt_PSIC' \n",
      "@>    'Delta_PSIC' \n",
      "@>    'SASA' \n",
      "@>    'ANM_MSF-chain' \n",
      "@>    'ANM_effectiveness-chain' \n",
      "@>    'ANM_sensitivity-chain' \n",
      "@>    'stiffness-chain' \n",
      "@>    'entropy' \n",
      "@>    'ranked_MI' \n",
      "@>    'BLOSUM' \n",
      "@>    'EVmut-DeltaE_epist' \n",
      "@> Random Forest classifier imported in 0.2s.\n",
      "@> 1383 predictions computed in 1.2s.\n"
     ]
    }
   ],
   "source": [
    "# Finally, let's compute predictions\n",
    "test_SAVs = ID_test['SAV_coords']\n",
    "\n",
    "for clsf_version in ['full', 'reduced', 'EVmut']:\n",
    "    trained_clsf = f'local/train/{clsf_version}/trained_classifier.pkl'\n",
    "    # since precomputed features are already included in the Integrated Dataset,\n",
    "    # we won't compute them again, but we import them instead\n",
    "    rh = rd.Rhapsody(test_SAVs, queryPolyPhen2=False)\n",
    "    rh.importClassifiers(trained_clsf)\n",
    "    rh.importFeatMatrix(ID_test)\n",
    "    preds['Rhapsody_' + clsf_version] = rh.getPredictions(\n",
    "        PolyPhen2=False, EVmutation=False)\n",
    "    os.remove('rhapsody-features.txt')"
   ]
  },
  {
   "cell_type": "markdown",
   "metadata": {},
   "source": [
    "## Comparison"
   ]
  },
  {
   "cell_type": "code",
   "execution_count": 18,
   "metadata": {},
   "outputs": [],
   "source": [
    "# compute accuracy metrics and other info\n",
    "metrics = {}\n",
    "\n",
    "pclass_mapping = {\n",
    "    'deleterious': 1, 'prob.delet.': 1,\n",
    "    'neutral': 0, 'prob.neutral': 0,\n",
    "    '?': -1}\n",
    "\n",
    "for model in ['SNPs3D_profile', 'SNPs3D_structure', 'SNPs3D_consensus',\n",
    "              'Rhapsody_full', 'Rhapsody_reduced', 'Rhapsody_EVmut']:\n",
    "    true_labels = ID_test['true_label']\n",
    "    pred_score = preds[model]['score']\n",
    "    pred_class = np.array([\n",
    "        pclass_mapping[cl] for cl in preds[model]['path. class']])\n",
    "    # ignore NaN values\n",
    "    sel = ~np.isnan(pred_score)\n",
    "    # compute various metrics\n",
    "    sm = rd.calcScoreMetrics(true_labels[sel], pred_score[sel])\n",
    "    cm = rd.calcClassMetrics(true_labels[sel], pred_class[sel])\n",
    "    metrics[model] = {**sm, **cm, 'n. SAVs': sum(sel), \n",
    "                      'n. del. SAVs': sum(true_labels[sel])}"
   ]
  },
  {
   "cell_type": "code",
   "execution_count": 19,
   "metadata": {},
   "outputs": [
    {
     "data": {
      "image/png": "[encoded data removed]",
      "text/plain": [
       "<Figure size 864x288 with 2 Axes>"
      ]
     },
     "metadata": {
      "needs_background": "light"
     },
     "output_type": "display_data"
    }
   ],
   "source": [
    "import matplotlib.pyplot as plt\n",
    "\n",
    "models = [\n",
    "    'Rhapsody_full', 'Rhapsody_reduced', 'Rhapsody_EVmut',\n",
    "    'SNPs3D_structure', 'SNPs3D_profile', 'SNPs3D_consensus']\n",
    "sel_metrics = [\n",
    "    'AUROC', 'AUPRC', 'MCC', 'F1 score', \n",
    "    'precision (0)', 'recall (0)', 'F1 score (0)',\n",
    "    'precision (1)', 'recall (1)', 'F1 score (1)']\n",
    "\n",
    "fig, ax = plt.subplots(1, figsize=(12,4))\n",
    "\n",
    "dx = .14\n",
    "opts = {'width': dx, 'edgecolor': 'w'}\n",
    "n = len(sel_metrics)\n",
    "dn = 0.2\n",
    "\n",
    "ax.set_title('Rhapsody vs. SNPs3D')\n",
    "ax.set_xticks(list(range(n)) + [n+dn,])\n",
    "ax.set_xticklabels([*sel_metrics, 'n.SAVs'])\n",
    "ax2 = ax.twinx()\n",
    "ax.set_xlim((-.6, n+.8))\n",
    "\n",
    "# bar plots\n",
    "for j, model in enumerate(models):\n",
    "    x = np.arange(n+1) + (j-3)*dx + dx/2\n",
    "    d = metrics[model]\n",
    "    y = [d[sm] for sm in sel_metrics]\n",
    "    if model.startswith('Rhapsody'):\n",
    "        c = 'C0'\n",
    "    else:\n",
    "        c = f'C3'\n",
    "    ax.bar(x[:-1], y, color=c, **opts, label=model)\n",
    "    ax2.bar(x[-1]+dn, d['n. SAVs'], color=c, **opts)\n",
    "    ax2.bar(x[-1]+dn, d['n. del. SAVs'], color=c, **opts, hatch='/'*5)\n",
    "\n",
    "# separator\n",
    "plt.axvline(x=n-.5+dn/2, color='k', linestyle='-', lw=1)\n",
    "\n",
    "h, l = ax.get_legend_handles_labels()\n",
    "handles = [h[0], h[3]]\n",
    "labels = ['Rhapsody (full/reduced/EVmut)',\n",
    "          'SNPs3D (structure/profile/consensus)']\n",
    "ax.legend(handles, labels, loc='upper left', handlelength=1)\n",
    "\n",
    "fig.tight_layout()\n",
    "fig.savefig('local/figures/SNPs3D_metrics.png', dpi=300);"
   ]
  }
 ],
 "metadata": {
  "kernelspec": {
   "display_name": "Python 3",
   "language": "python",
   "name": "python3"
  },
  "language_info": {
   "codemirror_mode": {
    "name": "ipython",
    "version": 3
   },
   "file_extension": ".py",
   "mimetype": "text/x-python",
   "name": "python",
   "nbconvert_exporter": "python",
   "pygments_lexer": "ipython3",
   "version": "3.7.4"
  }
 },
 "nbformat": 4,
 "nbformat_minor": 4
}
